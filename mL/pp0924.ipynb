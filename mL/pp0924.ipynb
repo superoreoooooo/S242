{
  "cells": [
    {
      "cell_type": "code",
      "execution_count": 1,
      "metadata": {
        "colab": {
          "base_uri": "https://localhost:8080/"
        },
        "id": "2eZTDcJE3vIT",
        "outputId": "7253acd5-3cb2-499c-fc20-158eb2bab262"
      },
      "outputs": [
        {
          "data": {
            "text/plain": [
              "array([0, 1, 2, 3, 4, 5, 6, 7, 8, 9])"
            ]
          },
          "execution_count": 1,
          "metadata": {},
          "output_type": "execute_result"
        }
      ],
      "source": [
        "import numpy as np\n",
        "\n",
        "a = np.arange(0, 10, 1)\n",
        "\n",
        "a\n"
      ]
    },
    {
      "cell_type": "code",
      "execution_count": 2,
      "metadata": {
        "colab": {
          "base_uri": "https://localhost:8080/"
        },
        "id": "OQt7R2d55j_E",
        "outputId": "55127fb9-d47c-4b07-8f00-a46f8e3522b9"
      },
      "outputs": [
        {
          "data": {
            "text/plain": [
              "array([0, 2, 4, 6, 8])"
            ]
          },
          "execution_count": 2,
          "metadata": {},
          "output_type": "execute_result"
        }
      ],
      "source": [
        "b = np.arange(0, 10, 2)\n",
        "\n",
        "b"
      ]
    },
    {
      "cell_type": "code",
      "execution_count": 3,
      "metadata": {
        "colab": {
          "base_uri": "https://localhost:8080/"
        },
        "id": "Au_UdNyA5nmj",
        "outputId": "ee7b2372-5325-404c-b265-366794e2c80b"
      },
      "outputs": [
        {
          "name": "stdout",
          "output_type": "stream",
          "text": [
            "b.shape = (5,)\n",
            "b.ndim = 1\n",
            "b.dtype = int64\n",
            "b.size = 5\n",
            "b.itemsize = 8\n"
          ]
        }
      ],
      "source": [
        "print(f\"b.shape = {b.shape}\")\n",
        "print(f\"b.ndim = {b.ndim}\")\n",
        "print(f\"b.dtype = {b.dtype}\")\n",
        "print(f\"b.size = {b.size}\")\n",
        "print(f\"b.itemsize = {b.itemsize}\")"
      ]
    }
  ],
  "metadata": {
    "colab": {
      "provenance": []
    },
    "kernelspec": {
      "display_name": "Python 3",
      "name": "python3"
    },
    "language_info": {
      "codemirror_mode": {
        "name": "ipython",
        "version": 3
      },
      "file_extension": ".py",
      "mimetype": "text/x-python",
      "name": "python",
      "nbconvert_exporter": "python",
      "pygments_lexer": "ipython3",
      "version": "3.12.4"
    }
  },
  "nbformat": 4,
  "nbformat_minor": 0
}
