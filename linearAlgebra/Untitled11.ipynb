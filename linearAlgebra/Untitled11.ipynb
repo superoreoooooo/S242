{
 "cells": [
  {
   "cell_type": "code",
   "execution_count": 1,
   "metadata": {
    "colab": {
     "base_uri": "https://localhost:8080/"
    },
    "id": "3EJvvi9UCy-6",
    "outputId": "4c02e4c9-0dbd-41cb-c6b8-cea43521d424"
   },
   "outputs": [
    {
     "name": "stdout",
     "output_type": "stream",
     "text": [
      "EigResult(eigenvalues=array([-0.37228132,  5.37228132]), eigenvectors=array([[-0.82456484, -0.41597356],\n",
      "       [ 0.56576746, -0.90937671]]))\n",
      "[-0.37  5.37]\n"
     ]
    }
   ],
   "source": [
    "import numpy as np\n",
    "A = np.array([[1,2],[3,4]])\n",
    "evals = np.linalg.eig(A)\n",
    "print(evals)\n",
    "print(np.around(evals[0], 2))"
   ]
  },
  {
   "cell_type": "code",
   "execution_count": 2,
   "metadata": {
    "colab": {
     "base_uri": "https://localhost:8080/"
    },
    "id": "p8vqtFo3JM97",
    "outputId": "b6e36d58-ff9e-49f9-ef3d-763833fe10d3"
   },
   "outputs": [
    {
     "name": "stdout",
     "output_type": "stream",
     "text": [
      "고유값[0]: -0.56\n",
      "고유벡터[0]: [-0.87  0.49]\n",
      "고유값 방정식 증명: [ 0.48963374 -0.2749552 ] = [ 0.48963374 -0.2749552 ]\n",
      "행렬식 증명: 7.385576408059809e-17\n",
      "고유값[1]: 3.56\n",
      "고유벡터[1]: [-0.27 -0.96]\n",
      "고유값 방정식 증명: [-0.96276969 -3.42895508] = [-0.96276969 -3.42895508]\n",
      "행렬식 증명: 0.0\n"
     ]
    }
   ],
   "source": [
    "import numpy as np\n",
    "A = np.arange(4).reshape(2,2)\n",
    "evals, evecs = np.linalg.eig(A)\n",
    "\n",
    "for i in range(len(evals)):\n",
    "  print(f\"고유값[{i}]:\", np.around(evals[i], 2))\n",
    "  print(f\"고유벡터[{i}]:\", np.around(evecs[:,i], 2))\n",
    "  print(f\"고유값 방정식 증명:\", A@evecs[:,i], \"=\", evals[i]*evecs[:,i])\n",
    "  print(f\"행렬식 증명:\", np.linalg.det(A - evals[i]*np.eye (2)))"
   ]
  },
  {
   "cell_type": "code",
   "execution_count": 6,
   "metadata": {
    "colab": {
     "base_uri": "https://localhost:8080/"
    },
    "id": "vlAWRWa2OMK7",
    "outputId": "3db2ebff-11b4-4ea3-839b-9675f04a7afe"
   },
   "outputs": [
    {
     "data": {
      "text/plain": [
       "array([[ 0.,  0.],\n",
       "       [-0.,  0.]])"
      ]
     },
     "execution_count": 6,
     "metadata": {},
     "output_type": "execute_result"
    }
   ],
   "source": [
    "import numpy as np\n",
    "A = np.random.randn(2,2)\n",
    "evals, V = np.linalg.eig(A)\n",
    "L = np.diag(evals)\n",
    "np.around(A@V - V@L, 2)"
   ]
  }
 ],
 "metadata": {
  "colab": {
   "provenance": []
  },
  "kernelspec": {
   "display_name": "base",
   "language": "python",
   "name": "python3"
  },
  "language_info": {
   "codemirror_mode": {
    "name": "ipython",
    "version": 3
   },
   "file_extension": ".py",
   "mimetype": "text/x-python",
   "name": "python",
   "nbconvert_exporter": "python",
   "pygments_lexer": "ipython3",
   "version": "3.12.4"
  }
 },
 "nbformat": 4,
 "nbformat_minor": 0
}
