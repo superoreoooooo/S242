{
 "cells": [
  {
   "cell_type": "code",
   "execution_count": 1,
   "metadata": {},
   "outputs": [],
   "source": [
    "import numpy as np\n",
    "import matplotlib.pyplot as plt"
   ]
  },
  {
   "cell_type": "code",
   "execution_count": 13,
   "metadata": {},
   "outputs": [
    {
     "name": "stdout",
     "output_type": "stream",
     "text": [
      "[[1. 0.]\n",
      " [0. 1.]]\n",
      "[[1. 0. 0.]\n",
      " [0. 1. 0.]\n",
      " [0. 0. 1.]]\n"
     ]
    }
   ],
   "source": [
    "np.set_printoptions(precision=6, suppress=False)\n",
    "\n",
    "Q1 = np.array([[1, -1], [1, 1]]) / np.sqrt(2)\n",
    "Q2 = np.array([[1, 2, 2], [2, 1, -2], [-2, 2, -1]]) / 3\n",
    "\n",
    "print(np.around(Q1.T @ Q1))\n",
    "print(np.around(Q2.T @ Q2))"
   ]
  },
  {
   "cell_type": "code",
   "execution_count": 174,
   "metadata": {},
   "outputs": [
    {
     "name": "stdout",
     "output_type": "stream",
     "text": [
      "1.0\n",
      "1.0\n",
      "1.0\n",
      "1.0\n",
      "1.0\n",
      "1.0\n",
      "[[1. 0. 0.]\n",
      " [0. 1. 0.]\n",
      " [0. 0. 1.]]\n"
     ]
    }
   ],
   "source": [
    "A = np.random.randn(3, 3)\n",
    "#print(A)\n",
    "\n",
    "def para(t, r) :\n",
    "    return r * (t.dot(r) / r.dot(r))\n",
    "\n",
    "def orth(t, para) :\n",
    "    return t - para\n",
    "\n",
    "#print(orth(t, para(t, r)))\n",
    "\n",
    "def GS(A) :\n",
    "    \"\"\"\n",
    "    v0 = A[:, 0]\n",
    "    v1 = A[:, 1]\n",
    "    v2 = A[:, 2]\n",
    "\n",
    "    Q = np.zeros((3, 3))\n",
    "\n",
    "    Q[0, :] = v0\n",
    "    Q[1, :] = v1 - np.dot(Q[1, :], Q[0, :]) / np.dot(Q[0, :], Q[0, :]) * Q[0, :]\n",
    "    Q[2, :] = v2 - np.dot(Q[2, :], Q[0, :]) / np.dot(Q[0, :], Q[0, :]) * Q[0, :]\n",
    "    Q[2, :] = Q[2, :] - np.dot(Q[2, :], Q[1, :]) / np.dot(Q[1, :], Q[1, :]) * Q[1, :]\n",
    "\n",
    "    Q[0, :] = Q[0, :] / np.linalg.norm(Q[0, :])\n",
    "    Q[1, :] = Q[1, :] / np.linalg.norm(Q[1, :])\n",
    "    Q[2, :] = Q[2, :] / np.linalg.norm(Q[2, :])\n",
    "\n",
    "    Q = Q.T\n",
    "    \"\"\"\n",
    "\n",
    "def getGS(m):\n",
    "    r, c = 3, 3\n",
    "    Q = np.zeros((r,c))\n",
    "    for i in range(c):\n",
    "        Q[:,i] = m[:,i]\n",
    "        for j in range(i):\n",
    "            q = Q[:,j]\n",
    "            Q[:,i]=Q[:,i] - np.dot(Q[:,i],q)/np.dot(q,q)*q\n",
    "        Q[:,i] = Q[:,i] / np.linalg.norm(Q[:,i])      \n",
    "\n",
    "    return Q\n",
    "\n",
    "Q = getGS(A)\n",
    "\n",
    "print(np.linalg.norm(Q[:, 0]))\n",
    "print(np.linalg.norm(Q[:, 1]))\n",
    "print(np.linalg.norm(Q[:, 2]))\n",
    "\n",
    "print(Q[:, 0].T @ Q[:, 0])\n",
    "print(Q[:, 1].T @ Q[:, 1])\n",
    "print(Q[:, 2].T @ Q[:, 2])\n",
    "\n",
    "print(Q.T@Q)\n"
   ]
  }
 ],
 "metadata": {
  "kernelspec": {
   "display_name": "base",
   "language": "python",
   "name": "python3"
  },
  "language_info": {
   "codemirror_mode": {
    "name": "ipython",
    "version": 3
   },
   "file_extension": ".py",
   "mimetype": "text/x-python",
   "name": "python",
   "nbconvert_exporter": "python",
   "pygments_lexer": "ipython3",
   "version": "3.12.4"
  }
 },
 "nbformat": 4,
 "nbformat_minor": 2
}
