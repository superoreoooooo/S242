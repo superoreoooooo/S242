{
 "cells": [
  {
   "cell_type": "code",
   "execution_count": 1,
   "metadata": {},
   "outputs": [],
   "source": [
    "import numpy as np"
   ]
  },
  {
   "cell_type": "markdown",
   "metadata": {},
   "source": [
    "## 행렬방정식 (연립)"
   ]
  },
  {
   "cell_type": "code",
   "execution_count": 2,
   "metadata": {},
   "outputs": [
    {
     "data": {
      "text/plain": [
       "(array([[ 1.1416 ,  0.33464, -0.01417, -0.01305],\n",
       "        [ 0.86023,  1.19952,  0.76382,  0.99167],\n",
       "        [-0.39893, -0.81631, -0.07503, -0.18584],\n",
       "        [ 0.67975, -1.5087 ,  1.39182,  0.96588]]),\n",
       " array([[-0.26766, -0.98167,  2.41115,  0.73853],\n",
       "        [ 0.37447,  0.03451,  1.42098,  1.02658],\n",
       "        [-2.10585, -0.44963,  0.47244, -0.39697],\n",
       "        [ 0.34074,  1.86992, -1.4276 , -0.23928]]))"
      ]
     },
     "execution_count": 2,
     "metadata": {},
     "output_type": "execute_result"
    }
   ],
   "source": [
    "A = np.random.randn(4, 4)\n",
    "B = np.random.randn(4, 4)\n",
    "\n",
    "X1 = np.linalg.inv(A)\n",
    "X2 = B @ np.linalg.inv(A)\n",
    "\n",
    "res1 = A@X1 - B\n",
    "res2 = A@X2 - B\n",
    "\n",
    "np.around(res1, 5), np.around(res2, 5)"
   ]
  },
  {
   "cell_type": "markdown",
   "metadata": {},
   "source": [
    "## RREF -> 기약 행 사다리꼴"
   ]
  },
  {
   "cell_type": "code",
   "execution_count": 3,
   "metadata": {},
   "outputs": [
    {
     "data": {
      "text/latex": [
       "$\\displaystyle \\left[\\begin{matrix}1 & 0 & 1.33333333333333\\\\0 & 1 & 2.66666666666667\\end{matrix}\\right]$"
      ],
      "text/plain": [
       "Matrix([\n",
       "[1, 0, 1.33333333333333],\n",
       "[0, 1, 2.66666666666667]])"
      ]
     },
     "execution_count": 3,
     "metadata": {},
     "output_type": "execute_result"
    }
   ],
   "source": [
    "import sympy as sym\n",
    "\n",
    "M = np.array([[1, 1, 4], [-1/2, 1, 2]])\n",
    "symMat = sym.Matrix(M)\n",
    "\n",
    "#RREF\n",
    "\n",
    "symMat.rref()[0]"
   ]
  },
  {
   "cell_type": "markdown",
   "metadata": {},
   "source": [
    "## 실습"
   ]
  },
  {
   "cell_type": "code",
   "execution_count": 5,
   "metadata": {},
   "outputs": [
    {
     "data": {
      "text/latex": [
       "$\\displaystyle \\left[\\begin{matrix}1 & 0 & 0 & 3\\\\0 & 1 & 0 & 1\\\\0 & 0 & 1 & \\frac{2}{5}\\end{matrix}\\right]$"
      ],
      "text/plain": [
       "Matrix([\n",
       "[1, 0, 0,   3],\n",
       "[0, 1, 0,   1],\n",
       "[0, 0, 1, 2/5]])"
      ]
     },
     "execution_count": 5,
     "metadata": {},
     "output_type": "execute_result"
    }
   ],
   "source": [
    "M = np.array([[3, 4, -5, 11], [1, 2, -10, 1], [2, 9, -5, 13]])\n",
    "symMat = sym.Matrix(M)\n",
    "\n",
    "symMat.rref()[0]"
   ]
  },
  {
   "cell_type": "markdown",
   "metadata": {},
   "source": [
    "## LU"
   ]
  },
  {
   "cell_type": "code",
   "execution_count": null,
   "metadata": {},
   "outputs": [
    {
     "name": "stdout",
     "output_type": "stream",
     "text": [
      "[[1.  0.  0. ]\n",
      " [0.5 1.  0. ]\n",
      " [1.  1.  1. ]] [[ 2.  2.  4.]\n",
      " [ 0. -1.  1.]\n",
      " [ 0.  0. -3.]]\n"
     ]
    }
   ],
   "source": [
    "import scipy\n",
    "import scipy.linalg\n",
    "\n",
    "A = np.array([[2, 2, 4], [1, 0, 3], [2, 1, 2]])\n",
    "\n",
    "P, L, U = scipy.linalg.lu(A)\n",
    "#치환 행렬 : P\n",
    "print(L, U)\n"
   ]
  },
  {
   "cell_type": "code",
   "execution_count": 17,
   "metadata": {},
   "outputs": [
    {
     "name": "stdout",
     "output_type": "stream",
     "text": [
      "[[2. 2. 4.]\n",
      " [1. 0. 3.]\n",
      " [2. 1. 2.]]\n",
      "[[2. 2. 4.]\n",
      " [1. 0. 3.]\n",
      " [2. 1. 2.]]\n",
      "[[2 2 4]\n",
      " [1 0 3]\n",
      " [2 1 2]]\n",
      "[[2. 2. 4.]\n",
      " [1. 0. 3.]\n",
      " [2. 1. 2.]]\n",
      "[[1. 0. 0.]\n",
      " [0. 1. 0.]\n",
      " [0. 0. 1.]]\n",
      "[[ True  True  True]\n",
      " [ True  True  True]\n",
      " [ True  True  True]]\n"
     ]
    }
   ],
   "source": [
    "print(P.T@A)\n",
    "print(L@U)\n",
    "\n",
    "print(A)\n",
    "print(P@L@U)\n",
    "\n",
    "print(P)\n",
    "print(P.T == P)"
   ]
  },
  {
   "cell_type": "markdown",
   "metadata": {},
   "source": [
    "## 최소제곱법"
   ]
  },
  {
   "cell_type": "code",
   "execution_count": 18,
   "metadata": {},
   "outputs": [
    {
     "name": "stdout",
     "output_type": "stream",
     "text": [
      "x_hat (최소제곱 해): [0.66666667 0.5       ]\n",
      "b_projected (기준 성분): [1.16666667 1.66666667 2.16666667]\n",
      "b_residual (수직 성분): [-0.16666667  0.33333333 -0.16666667]\n"
     ]
    }
   ],
   "source": [
    "import numpy as np\n",
    "\n",
    "# A 행렬과 b 벡터 정의\n",
    "A = np.array([[1, 1], [1, 2], [1, 3]])  # 예제 행렬 (3x2)\n",
    "b = np.array([1, 2, 2])                # 예제 벡터 (3x1)\n",
    "\n",
    "# 최소제곱 해 (x_hat) 계산\n",
    "A_T = A.T\n",
    "x_hat = np.linalg.inv(A_T @ A) @ (A_T @ b)\n",
    "\n",
    "# b를 기준 성분과 수직 성분으로 분해\n",
    "b_projected = A @ x_hat  # A의 기저를 따라가는 성분\n",
    "b_residual = b - b_projected  # A의 기저에 수직인 성분\n",
    "\n",
    "# 결과 출력\n",
    "print(\"x_hat (최소제곱 해):\", x_hat)\n",
    "print(\"b_projected (기준 성분):\", b_projected)\n",
    "print(\"b_residual (수직 성분):\", b_residual)\n"
   ]
  },
  {
   "cell_type": "markdown",
   "metadata": {},
   "source": [
    "## QR분해"
   ]
  },
  {
   "cell_type": "code",
   "execution_count": null,
   "metadata": {},
   "outputs": [
    {
     "name": "stdout",
     "output_type": "stream",
     "text": [
      "[[1 3 5]\n",
      " [1 1 0]\n",
      " [1 1 2]\n",
      " [1 3 3]] [[ 3]\n",
      " [ 5]\n",
      " [ 7]\n",
      " [-3]]\n",
      "Q 행렬:\n",
      " [[-0.5  0.5 -0.5]\n",
      " [-0.5 -0.5  0.5]\n",
      " [-0.5 -0.5 -0.5]\n",
      " [-0.5  0.5  0.5]]\n",
      "R 행렬:\n",
      " [[-2. -4. -5.]\n",
      " [ 0.  2.  3.]\n",
      " [ 0.  0. -2.]]\n",
      "x_hat (최소제곱 해): [[10.]\n",
      " [-6.]\n",
      " [ 2.]]\n"
     ]
    }
   ],
   "source": [
    "A = np.array([[1, 3, 5], [1, 1, 0], [1, 1, 2], [1, 3, 3]])\n",
    "B = np.array([[3, 5, 7, -3]]).T\n",
    "\n",
    "print(A, B)\n",
    "\n",
    "Q, R = np.linalg.qr(A)\n",
    "\n",
    "# 최소제곱 해 계산\n",
    "Q_T_b = Q.T @ B\n",
    "x_hat = np.linalg.solve(R, Q_T_b)  # 상삼각 행렬 R에 대한 해 계산\n",
    "\n",
    "# 결과 출력\n",
    "print(\"Q 행렬:\\n\", Q)\n",
    "print(\"R 행렬:\\n\", R)\n",
    "print(\"x_hat (최소제곱 해):\", x_hat)"
   ]
  }
 ],
 "metadata": {
  "kernelspec": {
   "display_name": "base",
   "language": "python",
   "name": "python3"
  },
  "language_info": {
   "codemirror_mode": {
    "name": "ipython",
    "version": 3
   },
   "file_extension": ".py",
   "mimetype": "text/x-python",
   "name": "python",
   "nbconvert_exporter": "python",
   "pygments_lexer": "ipython3",
   "version": "3.12.4"
  }
 },
 "nbformat": 4,
 "nbformat_minor": 2
}
