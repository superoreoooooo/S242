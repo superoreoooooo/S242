{
 "cells": [
  {
   "cell_type": "code",
   "execution_count": 2,
   "metadata": {},
   "outputs": [],
   "source": [
    "import numpy as np\n",
    "import matplotlib.pyplot as plt"
   ]
  },
  {
   "cell_type": "code",
   "execution_count": 7,
   "metadata": {},
   "outputs": [
    {
     "name": "stdout",
     "output_type": "stream",
     "text": [
      "[[0. 0. 0.]\n",
      " [0. 0. 0.]]\n",
      "[[0. 0. 0.]\n",
      " [0. 0. 0.]\n",
      " [0. 0. 0.]\n",
      " [0. 0. 0.]]\n"
     ]
    }
   ],
   "source": [
    "a = np.zeros((2, 3))\n",
    "\n",
    "print(a)\n",
    "\n",
    "b = np.zeros((4, 3))\n",
    "\n",
    "print(b)"
   ]
  },
  {
   "cell_type": "code",
   "execution_count": 18,
   "metadata": {},
   "outputs": [
    {
     "name": "stdout",
     "output_type": "stream",
     "text": [
      "2.23606797749979\n"
     ]
    }
   ],
   "source": [
    "a = np.array([1, 2])\n",
    "\n",
    "ans = (a[0] ** 2 + a[1] ** 2) ** (0.5)\n",
    "\n",
    "print(ans)"
   ]
  },
  {
   "cell_type": "code",
   "execution_count": 25,
   "metadata": {},
   "outputs": [
    {
     "name": "stdout",
     "output_type": "stream",
     "text": [
      "5.0\n"
     ]
    }
   ],
   "source": [
    "b = np.array([3, 4])\n",
    "\n",
    "def getNorm(v) :\n",
    "    return np.sqrt(np.sum(v * v))\n",
    "\n",
    "print(getNorm(b))"
   ]
  },
  {
   "cell_type": "code",
   "execution_count": 30,
   "metadata": {},
   "outputs": [
    {
     "name": "stdout",
     "output_type": "stream",
     "text": [
      "[3. 4.]\n",
      "True\n"
     ]
    }
   ],
   "source": [
    "t = np.array([3, 4])\n",
    "r = np.array([1, 2])\n",
    "\n",
    "proj = r * (t.dot(r) / r.dot(r))\n",
    "misp = t - proj\n",
    "\n",
    "print(proj + misp)\n",
    "\n",
    "print(np.isclose(np.dot(misp, proj), 0)) #-> 부동소수점 문제"
   ]
  },
  {
   "cell_type": "code",
   "execution_count": 32,
   "metadata": {},
   "outputs": [
    {
     "data": {
      "text/plain": [
       "array([-1, 14, -1])"
      ]
     },
     "execution_count": 32,
     "metadata": {},
     "output_type": "execute_result"
    }
   ],
   "source": [
    "l1 = 1\n",
    "l2 = 2\n",
    "l3 = 3\n",
    "\n",
    "v1 = np.array([4, 5, 1])\n",
    "v2 = np.array([-4 ,0, -4])\n",
    "v3 = np.array([1, 3, 2])\n",
    "\n",
    "l1 * v1 + l2 * v2 + l3 * v3"
   ]
  },
  {
   "cell_type": "code",
   "execution_count": 35,
   "metadata": {},
   "outputs": [
    {
     "data": {
      "image/png": "[encoded data removed]",
      "text/plain": [
       "<Figure size 400x200 with 1 Axes>"
      ]
     },
     "metadata": {},
     "output_type": "display_data"
    }
   ],
   "source": [
    "A = np.array([2, 1])\n",
    "B = np.array([1, 0.5])\n",
    "\n",
    "xlim = [-2, 2]\n",
    "ylim = [-1, 1]\n",
    "\n",
    "scalars = np.random.uniform(low = -1, high = 1, size = 100)\n",
    "sc2 = np.random.uniform(low = -1, high = 1, size = 100)\n",
    "\n",
    "plt.figure(figsize=(4, 2))\n",
    "\n",
    "for s in scalars :\n",
    "    p = A * s\n",
    "    plt.plot(p[0], p[1], 'o', color = \"red\", markersize=3)\n",
    "\n",
    "for s in sc2 :\n",
    "    p = B * s\n",
    "    plt.plot(p[0], p[1], 'o', color = \"blue\", markersize=3)\n",
    "\n",
    "plt.xlim(xlim)\n",
    "plt.ylim(ylim)\n",
    "\n",
    "plt.grid()\n",
    "plt.show()"
   ]
  },
  {
   "cell_type": "code",
   "execution_count": 42,
   "metadata": {},
   "outputs": [
    {
     "name": "stdout",
     "output_type": "stream",
     "text": [
      "0.9819805060619655\n"
     ]
    }
   ],
   "source": [
    "v1 = np.array([1, 2, 3])\n",
    "v2 = np.array([2, 4, 5])\n",
    "\n",
    "def myCorrCoef(v1, v2) :\n",
    "    return (np.dot(v1 - np.mean(v1), v2 - np.mean(v2))) / (np.linalg.norm(v1 - np.mean(v1)) * np.linalg.norm(v2 - np.mean(v2)))\n",
    "\n",
    "print(myCorrCoef(v1, v2))"
   ]
  },
  {
   "cell_type": "code",
   "execution_count": 45,
   "metadata": {},
   "outputs": [
    {
     "name": "stdout",
     "output_type": "stream",
     "text": [
      "0.9960238411119946\n"
     ]
    }
   ],
   "source": [
    "cos = np.dot(v1, v2) / (np.linalg.norm(v1) * np.linalg.norm(v2))\n",
    "\n",
    "print(cos)"
   ]
  },
  {
   "cell_type": "code",
   "execution_count": 46,
   "metadata": {},
   "outputs": [
    {
     "name": "stdout",
     "output_type": "stream",
     "text": [
      "[[ 2  6  5]\n",
      " [ 0 -2  6]]\n"
     ]
    }
   ],
   "source": [
    "a = np.array([[2, 3, 4], [1, 2, 4]])\n",
    "b = np.array([[0, 3, 1], [-1, -4, 2]])\n",
    "\n",
    "print(a + b)"
   ]
  },
  {
   "cell_type": "code",
   "execution_count": 47,
   "metadata": {},
   "outputs": [
    {
     "name": "stdout",
     "output_type": "stream",
     "text": [
      "[[10.  5.  1.]\n",
      " [ 0.  7. 11.]\n",
      " [ 4.  9. 13.]]\n"
     ]
    }
   ],
   "source": [
    "a = np.array([[4, 5, 1], [0, 1, 11], [4, 9, 7]])\n",
    "\n",
    "print(a + np.eye(len(a)) * 6)"
   ]
  },
  {
   "cell_type": "code",
   "execution_count": 48,
   "metadata": {},
   "outputs": [
    {
     "name": "stdout",
     "output_type": "stream",
     "text": [
      "[[ 5  8 12]\n",
      " [ 8 13 20]\n",
      " [12 20 32]]\n"
     ]
    }
   ],
   "source": [
    "a = np.array([[2, 3, 4], [1, 2, 4]])\n",
    "\n",
    "def asdf(a) :\n",
    "    return a.T @ a\n",
    "\n",
    "print(asdf(a))"
   ]
  },
  {
   "cell_type": "code",
   "execution_count": 4,
   "metadata": {},
   "outputs": [
    {
     "name": "stdout",
     "output_type": "stream",
     "text": [
      "True\n"
     ]
    }
   ],
   "source": [
    "a = np.array([1, 2])\n",
    "b = np.array([3, 4])\n",
    "\n",
    "print(a.dot(b) == b.dot(a))"
   ]
  },
  {
   "cell_type": "code",
   "execution_count": 10,
   "metadata": {},
   "outputs": [
    {
     "name": "stdout",
     "output_type": "stream",
     "text": [
      "True\n",
      "[3. 4.]\n"
     ]
    }
   ],
   "source": [
    "t = np.array([3, 4])\n",
    "r = np.array([1, 2])\n",
    "\n",
    "proj = r * (np.dot(t, r) / np.dot(r, r))\n",
    "ak = t - proj\n",
    "\n",
    "print(np.isclose(np.dot(ak, proj), 0))\n",
    "print(proj + ak)"
   ]
  },
  {
   "cell_type": "code",
   "execution_count": 14,
   "metadata": {},
   "outputs": [
    {
     "data": {
      "text/plain": [
       "array([17., 23.])"
      ]
     },
     "execution_count": 14,
     "metadata": {},
     "output_type": "execute_result"
    }
   ],
   "source": [
    "scalars = [1, 2, 3]\n",
    "vectors = [np.array([1, 2]), np.array([2, 3]), np.array([4, 5])]\n",
    "\n",
    "nv = np.zeros((2))\n",
    "\n",
    "for i in range(0, len(scalars), 1) :\n",
    "    nv += scalars[i] * vectors[i]\n",
    "\n",
    "\n",
    "nv"
   ]
  },
  {
   "cell_type": "code",
   "execution_count": 17,
   "metadata": {},
   "outputs": [
    {
     "name": "stdout",
     "output_type": "stream",
     "text": [
      "0.9819805060619655\n"
     ]
    }
   ],
   "source": [
    "v1 = np.array([1, 2, 3])\n",
    "v2 = np.array([2, 4, 5])\n",
    "\n",
    "def corr(v1, v2) :\n",
    "    return np.dot(v1 - np.mean(v1), v2 - np.mean(v2)) / (np.linalg.norm(v1 - np.mean(v1)) * np.linalg.norm(v2 - np.mean(v2)))\n",
    "\n",
    "print(corr(v1, v2))"
   ]
  },
  {
   "cell_type": "code",
   "execution_count": 18,
   "metadata": {},
   "outputs": [
    {
     "name": "stdout",
     "output_type": "stream",
     "text": [
      "0.9960238411119946\n"
     ]
    }
   ],
   "source": [
    "def cosSim(v1, v2) :\n",
    "    return np.dot(v1, v2) / (np.linalg.norm(v1) * np.linalg.norm(v2))\n",
    "\n",
    "print(cosSim(v1, v2))"
   ]
  },
  {
   "cell_type": "code",
   "execution_count": 23,
   "metadata": {},
   "outputs": [
    {
     "name": "stdout",
     "output_type": "stream",
     "text": [
      "[[ 5  8 12]\n",
      " [ 8 13 20]\n",
      " [12 20 32]]\n",
      "[[ 5  8 12]\n",
      " [ 8 13 20]\n",
      " [12 20 32]]\n"
     ]
    }
   ],
   "source": [
    "a = np.array([[2, 3, 4], [1, 2, 4]])\n",
    "\n",
    "print(a.T @ a)\n",
    "print(np.dot(a.T, a))"
   ]
  },
  {
   "cell_type": "code",
   "execution_count": 25,
   "metadata": {},
   "outputs": [
    {
     "name": "stdout",
     "output_type": "stream",
     "text": [
      "7\n"
     ]
    }
   ],
   "source": [
    "a = np.arange(12).reshape(3, 4)\n",
    "\n",
    "print(a[1][3])"
   ]
  },
  {
   "cell_type": "code",
   "execution_count": 29,
   "metadata": {},
   "outputs": [
    {
     "name": "stdout",
     "output_type": "stream",
     "text": [
      "[[ 0  1  2  3  4]\n",
      " [10 11 12 13 14]\n",
      " [20 21 22 23 24]\n",
      " [30 31 32 33 34]\n",
      " [40 41 42 43 44]]\n",
      "[[ 5  6  7  8  9]\n",
      " [15 16 17 18 19]\n",
      " [25 26 27 28 29]\n",
      " [35 36 37 38 39]\n",
      " [45 46 47 48 49]]\n",
      "[[50 51 52 53 54]\n",
      " [60 61 62 63 64]\n",
      " [70 71 72 73 74]\n",
      " [80 81 82 83 84]\n",
      " [90 91 92 93 94]]\n",
      "[[55 56 57 58 59]\n",
      " [65 66 67 68 69]\n",
      " [75 76 77 78 79]\n",
      " [85 86 87 88 89]\n",
      " [95 96 97 98 99]]\n"
     ]
    }
   ],
   "source": [
    "a = np.arange(100).reshape(10, 10)\n",
    "\n",
    "for i in range(0, 2, 1) :\n",
    "    for j in range(0, 2, 1) :\n",
    "        print(a[0 + 5 * i : 5 + 5 * i : 1, 0 + 5 * j : 5 + 5 * j : 1])"
   ]
  },
  {
   "cell_type": "code",
   "execution_count": 33,
   "metadata": {},
   "outputs": [
    {
     "name": "stdout",
     "output_type": "stream",
     "text": [
      "[[ True  True  True  True]\n",
      " [ True  True  True  True]\n",
      " [ True  True  True  True]]\n"
     ]
    }
   ],
   "source": [
    "a = np.random.randn(3, 4)\n",
    "b = np.random.randn(3, 4)\n",
    "\n",
    "c = 5\n",
    "\n",
    "print(np.isclose(c * (a + b), c * a + c * b))"
   ]
  }
 ],
 "metadata": {
  "kernelspec": {
   "display_name": "base",
   "language": "python",
   "name": "python3"
  },
  "language_info": {
   "codemirror_mode": {
    "name": "ipython",
    "version": 3
   },
   "file_extension": ".py",
   "mimetype": "text/x-python",
   "name": "python",
   "nbconvert_exporter": "python",
   "pygments_lexer": "ipython3",
   "version": "3.12.4"
  }
 },
 "nbformat": 4,
 "nbformat_minor": 2
}
