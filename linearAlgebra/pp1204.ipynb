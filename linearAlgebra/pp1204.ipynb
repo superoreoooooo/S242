{
 "cells": [
  {
   "cell_type": "code",
   "execution_count": 1,
   "metadata": {},
   "outputs": [],
   "source": [
    "import numpy as np\n",
    "import matplotlib.pyplot as plt"
   ]
  },
  {
   "cell_type": "code",
   "execution_count": 2,
   "metadata": {},
   "outputs": [
    {
     "name": "stdout",
     "output_type": "stream",
     "text": [
      "1.3331058464580605e-16\n",
      "-2.8280776216404284e-17\n",
      "-2.764167583584017e-17\n"
     ]
    }
   ],
   "source": [
    "A = np.random.randint(-3, 4, (3, 3))\n",
    "A = A.T @ A\n",
    "\n",
    "L, V = np.linalg.eig(A)\n",
    "\n",
    "print(np.dot(V[:,0], V[:,1]))\n",
    "print(np.dot(V[:,0], V[:,2]))\n",
    "print(np.dot(V[:,1], V[:,2]))"
   ]
  },
  {
   "cell_type": "code",
   "execution_count": 8,
   "metadata": {},
   "outputs": [
    {
     "name": "stdout",
     "output_type": "stream",
     "text": [
      "[[ 2  5 -1]\n",
      " [ 5 13 -1]\n",
      " [-1 -1 14]]\n"
     ]
    }
   ],
   "source": [
    "print(A)"
   ]
  },
  {
   "cell_type": "code",
   "execution_count": 27,
   "metadata": {},
   "outputs": [
    {
     "name": "stdout",
     "output_type": "stream",
     "text": [
      "[[-6.03987160e-02  1.80738503e+00  1.42663659e-14]\n",
      " [ 7.99799720e-01  8.95478025e-02  7.41767758e-15]\n",
      " [-2.39790624e-01 -1.56567539e-01 -7.54951657e-15]]\n",
      "[[0.45145772 0.87349316 0.93389187]\n",
      " [0.04618636 0.35512596 0.44467376]\n",
      " [0.04161154 0.19817908 0.89109638]]\n",
      "[[0.45145772 0.87349316 0.93389187]\n",
      " [0.04618636 0.35512596 0.44467376]\n",
      " [0.04161154 0.19817908 0.89109638]]\n",
      "[-20.25  -0.04  21.  ]\n",
      "[-20.25  -0.04  21.  ]\n"
     ]
    }
   ],
   "source": [
    "B = np.random.randn(3, 3)\n",
    "B = B.T @ A\n",
    "\n",
    "LL, VV = np.linalg.eig(B)\n",
    "L, V = np.linalg.eig(np.linalg.inv(B))\n",
    "\n",
    "print(VV - V)\n",
    "print(np.sort(np.abs(VV)))\n",
    "print(np.sort(np.abs(V)))\n",
    "\n",
    "print(np.around(np.sort(LL), 2))\n",
    "print(np.around(np.sort(1 / L), 2))"
   ]
  },
  {
   "cell_type": "code",
   "execution_count": 10,
   "metadata": {},
   "outputs": [
    {
     "name": "stdout",
     "output_type": "stream",
     "text": [
      "[[-0.52 -0.34  0.74 -0.19  0.15]\n",
      " [-0.46  0.69  0.15  0.52 -0.11]\n",
      " [ 0.25 -0.33  0.1   0.73  0.53]\n",
      " [ 0.57  0.51  0.51 -0.25  0.3 ]\n",
      " [-0.35  0.2  -0.39 -0.3   0.77]]\n",
      "[[ 0.19 -0.15 -0.74 -0.52 -0.34]\n",
      " [-0.52  0.11 -0.15 -0.46  0.69]\n",
      " [-0.73 -0.53 -0.1   0.25 -0.33]\n",
      " [ 0.25 -0.3  -0.51  0.57  0.51]\n",
      " [ 0.3  -0.77  0.39 -0.35  0.2 ]]\n",
      "[[-0.71419984 -0.18941755  1.47975575  0.33549836  0.49663054]\n",
      " [ 0.06142397  0.57880491  0.30222138  0.98328625 -0.80541371]\n",
      " [ 0.98129188  0.20670244  0.20317447  0.48820737  0.85752782]\n",
      " [ 0.31777796  0.80495762  1.02761837 -0.82390251 -0.21034566]\n",
      " [-0.64979158  0.96872246 -0.78848322  0.05854238  0.570147  ]]\n",
      "[[0.15360649 0.18935074 0.34302405 0.5248491  0.73987787]\n",
      " [0.1133044  0.15111069 0.46093114 0.52235511 0.69210931]\n",
      " [0.10158723 0.24654225 0.32541269 0.53211513 0.73474963]\n",
      " [0.25306228 0.29730598 0.50765164 0.51380918 0.57084023]\n",
      " [0.19928773 0.2956246  0.35416698 0.39424161 0.76943473]]\n",
      "[[0.15360649 0.18935074 0.34302405 0.5248491  0.73987787]\n",
      " [0.1133044  0.15111069 0.46093114 0.52235511 0.69210931]\n",
      " [0.10158723 0.24654225 0.32541269 0.53211513 0.73474963]\n",
      " [0.25306228 0.29730598 0.50765164 0.51380918 0.57084023]\n",
      " [0.19928773 0.2956246  0.35416698 0.39424161 0.76943473]]\n",
      "[ 0.1   0.72  2.32  4.83 12.67]\n",
      "[ 0.1   0.72  2.32  4.83 12.67]\n"
     ]
    }
   ],
   "source": [
    "A = np.random.randn(5, 5)\n",
    "A = A.T@A\n",
    "\n",
    "el0, ec0 = np.linalg.eig(A)\n",
    "el1, ec1 = np.linalg.eig(np.linalg.inv(A))\n",
    "\n",
    "print(np.around(ec0, 2))\n",
    "print(ec1.round(2))\n",
    "\n",
    "np.set_printoptions(suppress=True)\n",
    "\n",
    "print(ec0 - ec1)\n",
    "print(np.sort(np.abs(ec0)))\n",
    "print(np.sort(np.abs(ec1)))\n",
    "print(np.around(np.sort(el0), 2))\n",
    "print(np.around(np.sort(1 / el1), 2))"
   ]
  }
 ],
 "metadata": {
  "kernelspec": {
   "display_name": "base",
   "language": "python",
   "name": "python3"
  },
  "language_info": {
   "codemirror_mode": {
    "name": "ipython",
    "version": 3
   },
   "file_extension": ".py",
   "mimetype": "text/x-python",
   "name": "python",
   "nbconvert_exporter": "python",
   "pygments_lexer": "ipython3",
   "version": "3.12.4"
  }
 },
 "nbformat": 4,
 "nbformat_minor": 2
}
