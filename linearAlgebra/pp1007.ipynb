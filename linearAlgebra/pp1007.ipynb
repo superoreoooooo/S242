{
 "cells": [
  {
   "cell_type": "code",
   "execution_count": 1,
   "metadata": {},
   "outputs": [],
   "source": [
    "import numpy as np"
   ]
  },
  {
   "cell_type": "code",
   "execution_count": 7,
   "metadata": {},
   "outputs": [
    {
     "data": {
      "text/plain": [
       "array([[10, 11, 12, 13],\n",
       "       [20, 21, 22, 23],\n",
       "       [30, 31, 32, 33]])"
      ]
     },
     "execution_count": 7,
     "metadata": {},
     "output_type": "execute_result"
    }
   ],
   "source": [
    "A = np.arange(60).reshape(6, 10)\n",
    "\n",
    "A\n",
    "\n",
    "sub = A[1:3:1, 0:4:1] #??\n",
    "\n",
    "sub"
   ]
  },
  {
   "cell_type": "code",
   "execution_count": 8,
   "metadata": {},
   "outputs": [
    {
     "data": {
      "text/plain": [
       "array([[-1.03589991, -0.78840988,  0.51618621,  0.01926533, -1.98359521,\n",
       "         0.35308667],\n",
       "       [-0.58585028, -0.76179627, -1.82596153, -1.28352374,  0.02895851,\n",
       "         0.28669222],\n",
       "       [-0.80050085, -0.43812109, -1.46093277, -0.35724818, -0.66212997,\n",
       "         0.84681548],\n",
       "       [ 0.00862225, -1.68824282,  0.40909783, -0.35942947, -1.64724156,\n",
       "        -0.81747448]])"
      ]
     },
     "execution_count": 8,
     "metadata": {},
     "output_type": "execute_result"
    }
   ],
   "source": [
    "Mrows = 4\n",
    "Mcols = 6\n",
    "\n",
    "A = np.random.randn(Mrows, Mcols)\n",
    "\n",
    "A"
   ]
  },
  {
   "cell_type": "code",
   "execution_count": 9,
   "metadata": {},
   "outputs": [
    {
     "name": "stdout",
     "output_type": "stream",
     "text": [
      "[1 2 3]\n",
      "[[1 0 0]\n",
      " [0 2 0]\n",
      " [0 0 3]]\n",
      "\n",
      "\n",
      "\n",
      "\n",
      "[[0 1 2]\n",
      " [3 4 5]\n",
      " [6 7 8]]\n",
      "[0 4 8]\n"
     ]
    }
   ],
   "source": [
    "a = np.array([1, 2, 3])\n",
    "\n",
    "da = np.diag(a)\n",
    "\n",
    "print(a)\n",
    "print(da)\n",
    "\n",
    "print(\"\\n\\n\\n\")\n",
    "\n",
    "b = np.arange(9).reshape(3, 3)\n",
    "db = np.diag(b)\n",
    "\n",
    "print(b)\n",
    "print(db)"
   ]
  },
  {
   "cell_type": "code",
   "execution_count": null,
   "metadata": {},
   "outputs": [],
   "source": [
    "a =np.arange(25).reshape(5, 5)\n",
    "\n",
    "print(a)\n",
    "print(np.triu(a))\n",
    "print(np.tril(a))"
   ]
  }
 ],
 "metadata": {
  "kernelspec": {
   "display_name": "base",
   "language": "python",
   "name": "python3"
  },
  "language_info": {
   "codemirror_mode": {
    "name": "ipython",
    "version": 3
   },
   "file_extension": ".py",
   "mimetype": "text/x-python",
   "name": "python",
   "nbconvert_exporter": "python",
   "pygments_lexer": "ipython3",
   "version": "3.12.4"
  }
 },
 "nbformat": 4,
 "nbformat_minor": 2
}
