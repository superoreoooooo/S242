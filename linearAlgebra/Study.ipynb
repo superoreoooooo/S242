{
 "cells": [
  {
   "cell_type": "code",
   "execution_count": 54,
   "metadata": {},
   "outputs": [],
   "source": [
    "import numpy as np"
   ]
  },
  {
   "cell_type": "code",
   "execution_count": 6,
   "metadata": {},
   "outputs": [
    {
     "name": "stdout",
     "output_type": "stream",
     "text": [
      "[[1]\n",
      " [2]\n",
      " [3]] [[4 5]]\n",
      "[[5 6]\n",
      " [6 7]\n",
      " [7 8]]\n",
      "(3, 2)\n"
     ]
    }
   ],
   "source": [
    "v = np.array([[1, 2, 3]]).T\n",
    "n = np.array([[4, 5]])\n",
    "\n",
    "print(v, n)\n",
    "\n",
    "print(v + n)\n",
    "\n",
    "print((v + n).shape)"
   ]
  },
  {
   "cell_type": "code",
   "execution_count": 26,
   "metadata": {},
   "outputs": [
    {
     "name": "stdout",
     "output_type": "stream",
     "text": [
      "[3. 4.]\n",
      "-1.9184653865522706e-15\n"
     ]
    }
   ],
   "source": [
    "t = np.array([3, 4])\n",
    "r = np.array([1, 2])\n",
    "\n",
    "proj = r * (np.dot(t, r) / np.dot(r, r))\n",
    "fck = t - proj\n",
    "\n",
    "\n",
    "print(proj + fck)\n",
    "print(np.dot(fck, proj))"
   ]
  },
  {
   "cell_type": "code",
   "execution_count": 19,
   "metadata": {},
   "outputs": [
    {
     "name": "stdout",
     "output_type": "stream",
     "text": [
      "-1.9184653865522706e-15\n"
     ]
    }
   ],
   "source": [
    "pp = r * (t @ r) / (r @ r)\n",
    "ff = t - pp\n",
    "print(ff @ pp)"
   ]
  },
  {
   "cell_type": "code",
   "execution_count": 53,
   "metadata": {},
   "outputs": [
    {
     "name": "stdout",
     "output_type": "stream",
     "text": [
      "0.9819805060619655\n",
      "0.9960238411119946\n"
     ]
    }
   ],
   "source": [
    "v1 = np.array([1, 2, 3])\n",
    "v2 = np.array([2, 4, 5])\n",
    "\n",
    "def myCorrCoef(x, y) :\n",
    "    return np.dot(x - np.mean(x), y - np.mean(y)) / (np.linalg.norm(x - np.mean(x)) * np.linalg.norm(y - np.mean(y)))\n",
    "\n",
    "def cosCoef(x, y) :\n",
    "    return np.dot(x, y) / (np.linalg.norm(x) * np.linalg.norm(y))\n",
    "\n",
    "#print(np.corrcoef(v1, v2))\n",
    "\n",
    "print(myCorrCoef(v1, v2))\n",
    "\n",
    "print(cosCoef(v1, v2))"
   ]
  },
  {
   "cell_type": "code",
   "execution_count": 74,
   "metadata": {},
   "outputs": [
    {
     "data": {
      "text/plain": [
       "array([[10, 11, 12, 13, 14],\n",
       "       [20, 21, 22, 23, 24],\n",
       "       [30, 31, 32, 33, 34]])"
      ]
     },
     "execution_count": 74,
     "metadata": {},
     "output_type": "execute_result"
    }
   ],
   "source": [
    "A = np.arange(60).reshape(6, 10)\n",
    "\n",
    "sub = A[1:4:1, 0:5:1]\n",
    "\n",
    "sub"
   ]
  },
  {
   "cell_type": "code",
   "execution_count": 76,
   "metadata": {},
   "outputs": [
    {
     "name": "stdout",
     "output_type": "stream",
     "text": [
      "[[ 2  6  5]\n",
      " [ 0 -2  6]]\n"
     ]
    }
   ],
   "source": [
    "a = np.array([[2, 3, 4], [1, 2, 4]])\n",
    "b = np.array([[0, 3, 1], [-1, -4, 2]])\n",
    "\n",
    "print(a + b)"
   ]
  },
  {
   "cell_type": "code",
   "execution_count": 77,
   "metadata": {},
   "outputs": [
    {
     "data": {
      "text/plain": [
       "array([[10.,  5.,  1.],\n",
       "       [ 0.,  7., 11.],\n",
       "       [ 4.,  9., 13.]])"
      ]
     },
     "execution_count": 77,
     "metadata": {},
     "output_type": "execute_result"
    }
   ],
   "source": [
    "a = np.array([[4, 5, 1], [0, 1, 11], [4, 9, 7]])\n",
    "\n",
    "a + np.eye(len(a)) * 6"
   ]
  },
  {
   "cell_type": "code",
   "execution_count": null,
   "metadata": {},
   "outputs": [
    {
     "data": {
      "text/plain": [
       "array([[10, 11, 12, 13, 14],\n",
       "       [20, 21, 22, 23, 24],\n",
       "       [30, 31, 32, 33, 34]])"
      ]
     },
     "metadata": {},
     "output_type": "display_data"
    }
   ],
   "source": [
    "A = np.arange(60).reshape(6, 10)\n",
    "\n",
    "sub = A[1:4:1, 0:5:1]\n",
    "\n",
    "sub"
   ]
  },
  {
   "cell_type": "code",
   "execution_count": 82,
   "metadata": {},
   "outputs": [
    {
     "data": {
      "image/png": "[encoded data removed]",
      "text/plain": [
       "<Figure size 600x600 with 1 Axes>"
      ]
     },
     "metadata": {},
     "output_type": "display_data"
    }
   ],
   "source": [
    "import matplotlib.pyplot as plt\n",
    "import numpy as np\n",
    "\n",
    "M = np.array([[2, 3], [2, 1]])\n",
    "x = np.array([[1, 1.5]]).T\n",
    "Mx = M @ x\n",
    "\n",
    "plt.figure(figsize=(6, 6))\n",
    "plt.plot([0, x[0, 0]], [0, x[1, 0]], '-.', linewidth=4, color=[0.0, 0.5, 0.7], label='x')\n",
    "plt.plot([0, Mx[0, 0]], [0, Mx[1, 0]], '--', linewidth=3, color=[0.3, 0.3, 0.3], label='Mx')\n",
    "\n",
    "plt.xlim([-7, 7])\n",
    "plt.ylim([-7, 7])\n",
    "plt.legend()  # 범례\n",
    "plt.grid()\n",
    "plt.show()\n"
   ]
  }
 ],
 "metadata": {
  "kernelspec": {
   "display_name": "base",
   "language": "python",
   "name": "python3"
  },
  "language_info": {
   "codemirror_mode": {
    "name": "ipython",
    "version": 3
   },
   "file_extension": ".py",
   "mimetype": "text/x-python",
   "name": "python",
   "nbconvert_exporter": "python",
   "pygments_lexer": "ipython3",
   "version": "3.12.4"
  }
 },
 "nbformat": 4,
 "nbformat_minor": 2
}
