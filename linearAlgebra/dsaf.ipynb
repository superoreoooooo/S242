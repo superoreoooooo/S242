{
 "cells": [
  {
   "cell_type": "code",
   "execution_count": 1,
   "metadata": {},
   "outputs": [],
   "source": [
    "import numpy as np\n",
    "import matplotlib.pyplot as plt"
   ]
  },
  {
   "cell_type": "code",
   "execution_count": 2,
   "metadata": {},
   "outputs": [
    {
     "data": {
      "text/plain": [
       "((3,), 1, dtype('int64'), 8, 3)"
      ]
     },
     "execution_count": 2,
     "metadata": {},
     "output_type": "execute_result"
    }
   ],
   "source": [
    "a = np.array([2, 3, 4])\n",
    "\n",
    "a.shape, a.ndim, a.dtype, a.itemsize, a.size"
   ]
  },
  {
   "cell_type": "code",
   "execution_count": 9,
   "metadata": {},
   "outputs": [
    {
     "name": "stdout",
     "output_type": "stream",
     "text": [
      "[ 1  2  3  4  5  6  7  8  9 10]\n",
      "[[0. 0. 0.]\n",
      " [0. 0. 0.]]\n",
      "[[1. 1. 1.]\n",
      " [1. 1. 1.]]\n",
      "[[140 140 140]\n",
      " [140 140 140]]\n",
      "[[1. 0. 0.]\n",
      " [0. 1. 0.]\n",
      " [0. 0. 1.]]\n"
     ]
    }
   ],
   "source": [
    "print(np.array(range(1, 11)))\n",
    "\n",
    "print(np.zeros((2, 3)))\n",
    "\n",
    "print(np.ones((2, 3)))\n",
    "\n",
    "print(np.full((2, 3), 140))\n",
    "\n",
    "print(np.eye(3))"
   ]
  },
  {
   "cell_type": "code",
   "execution_count": 14,
   "metadata": {},
   "outputs": [
    {
     "name": "stdout",
     "output_type": "stream",
     "text": [
      "[1 2 3 4 5 6 7 8 9]\n",
      "[[1 2 3]\n",
      " [4 5 6]\n",
      " [7 8 9]]\n"
     ]
    }
   ],
   "source": [
    "a = np.array([1, 2, 3])\n",
    "b = np.array([[4, 5, 6], [7 , 8, 9]])\n",
    "\n",
    "print(np.append(a, b))\n",
    "print(np.append([a], b, axis=0))"
   ]
  },
  {
   "cell_type": "code",
   "execution_count": 17,
   "metadata": {},
   "outputs": [
    {
     "name": "stdout",
     "output_type": "stream",
     "text": [
      "[[ 10  40]\n",
      " [ 90 160]]\n",
      "[[ 70 100]\n",
      " [150 220]]\n",
      "[[ 70 100]\n",
      " [150 220]]\n"
     ]
    }
   ],
   "source": [
    "a = np.array([[1, 2], [3, 4]])\n",
    "b = np.array([[10, 20], [30, 40]])\n",
    "\n",
    "print(a * b)\n",
    "\n",
    "print(a @ b)\n",
    "\n",
    "print(np.matmul(a, b))"
   ]
  },
  {
   "cell_type": "code",
   "execution_count": 21,
   "metadata": {},
   "outputs": [
    {
     "name": "stdout",
     "output_type": "stream",
     "text": [
      "[ True  True False False False]\n",
      "[28 30]\n"
     ]
    }
   ],
   "source": [
    "ages = np.array([28, 30, 10, 15, 20])\n",
    "\n",
    "print(ages >= 22)\n",
    "\n",
    "print(ages[ages >= 22])"
   ]
  },
  {
   "cell_type": "code",
   "execution_count": 26,
   "metadata": {},
   "outputs": [
    {
     "name": "stdout",
     "output_type": "stream",
     "text": [
      "[171.5302882  161.84032679 165.87858645 164.71575255 153.41531668]\n",
      "[171.53 161.84 165.88 164.72 153.42]\n",
      "[171 161 165 164 153]\n"
     ]
    }
   ],
   "source": [
    "rnd = np.random.randn(5) * 10 + 165\n",
    "\n",
    "print(rnd)\n",
    "\n",
    "print(rnd.round(2))\n",
    "\n",
    "print(rnd.astype(int))"
   ]
  },
  {
   "cell_type": "code",
   "execution_count": 31,
   "metadata": {},
   "outputs": [],
   "source": [
    "np.random.seed(42)"
   ]
  },
  {
   "cell_type": "code",
   "execution_count": 28,
   "metadata": {},
   "outputs": [
    {
     "name": "stdout",
     "output_type": "stream",
     "text": [
      "[[162.38 171.27 160.08 165.51]\n",
      " [163.9  169.14 174.36 169.1 ]\n",
      " [164.09 145.76 160.9  159.72]]\n"
     ]
    }
   ],
   "source": [
    "nums = np.random.normal(loc=165, scale=10, size=(3, 4)).round(2)\n",
    "\n",
    "print(nums)"
   ]
  },
  {
   "cell_type": "code",
   "execution_count": 29,
   "metadata": {},
   "outputs": [
    {
     "data": {
      "text/plain": [
       "array([4, 7, 3, 9, 5, 1, 8, 0, 6, 2])"
      ]
     },
     "execution_count": 29,
     "metadata": {},
     "output_type": "execute_result"
    }
   ],
   "source": [
    "a = np.arange(10)\n",
    "np.random.shuffle(a)\n",
    "a"
   ]
  },
  {
   "cell_type": "code",
   "execution_count": 57,
   "metadata": {},
   "outputs": [
    {
     "data": {
      "text/plain": [
       "array([ 4,  6,  2, 10,  8])"
      ]
     },
     "execution_count": 57,
     "metadata": {},
     "output_type": "execute_result"
    }
   ],
   "source": [
    "np.random.permutation([2, 4, 6, 8, 10])"
   ]
  },
  {
   "cell_type": "code",
   "execution_count": 60,
   "metadata": {},
   "outputs": [
    {
     "name": "stdout",
     "output_type": "stream",
     "text": [
      "[2 4 5 1 7 0 9 3 8 6]\n",
      "[2 4 5 1 7]\n",
      "[0 9 3 8 6]\n"
     ]
    }
   ],
   "source": [
    "a = np.arange(10)\n",
    "np.random.shuffle(a)\n",
    "print(a)\n",
    "print(a[:5])\n",
    "print(a[5:])"
   ]
  },
  {
   "cell_type": "code",
   "execution_count": 65,
   "metadata": {},
   "outputs": [
    {
     "data": {
      "text/plain": [
       "array([ 0. ,  0.1,  0.2,  0.3,  0.4,  0.5,  0.6,  0.7,  0.8,  0.9,  1. ,\n",
       "        1.1,  1.2,  1.3,  1.4,  1.5,  1.6,  1.7,  1.8,  1.9,  2. ,  2.1,\n",
       "        2.2,  2.3,  2.4,  2.5,  2.6,  2.7,  2.8,  2.9,  3. ,  3.1,  3.2,\n",
       "        3.3,  3.4,  3.5,  3.6,  3.7,  3.8,  3.9,  4. ,  4.1,  4.2,  4.3,\n",
       "        4.4,  4.5,  4.6,  4.7,  4.8,  4.9,  5.1,  5.2,  5.3,  5.4,  5.5,\n",
       "        5.6,  5.7,  5.8,  5.9,  6. ,  6.1,  6.2,  6.3,  6.4,  6.5,  6.6,\n",
       "        6.7,  6.8,  6.9,  7. ,  7.1,  7.2,  7.3,  7.4,  7.5,  7.6,  7.7,\n",
       "        7.8,  7.9,  8. ,  8.1,  8.2,  8.3,  8.4,  8.5,  8.6,  8.7,  8.8,\n",
       "        8.9,  9. ,  9.1,  9.2,  9.3,  9.4,  9.5,  9.6,  9.7,  9.8,  9.9,\n",
       "       10. ])"
      ]
     },
     "execution_count": 65,
     "metadata": {},
     "output_type": "execute_result"
    }
   ],
   "source": [
    "np.linspace(0, 10, 100).round(1)"
   ]
  },
  {
   "cell_type": "code",
   "execution_count": 68,
   "metadata": {},
   "outputs": [
    {
     "data": {
      "text/plain": [
       "array([1.00000000e+00, 1.26185688e+00, 1.59228279e+00, 2.00923300e+00,\n",
       "       2.53536449e+00, 3.19926714e+00, 4.03701726e+00, 5.09413801e+00,\n",
       "       6.42807312e+00, 8.11130831e+00, 1.02353102e+01, 1.29154967e+01,\n",
       "       1.62975083e+01, 2.05651231e+01, 2.59502421e+01, 3.27454916e+01,\n",
       "       4.13201240e+01, 5.21400829e+01, 6.57933225e+01, 8.30217568e+01,\n",
       "       1.04761575e+02, 1.32194115e+02, 1.66810054e+02, 2.10490414e+02,\n",
       "       2.65608778e+02, 3.35160265e+02, 4.22924287e+02, 5.33669923e+02,\n",
       "       6.73415066e+02, 8.49753436e+02, 1.07226722e+03, 1.35304777e+03,\n",
       "       1.70735265e+03, 2.15443469e+03, 2.71858824e+03, 3.43046929e+03,\n",
       "       4.32876128e+03, 5.46227722e+03, 6.89261210e+03, 8.69749003e+03,\n",
       "       1.09749877e+04, 1.38488637e+04, 1.74752840e+04, 2.20513074e+04,\n",
       "       2.78255940e+04, 3.51119173e+04, 4.43062146e+04, 5.59081018e+04,\n",
       "       7.05480231e+04, 8.90215085e+04, 1.12332403e+05, 1.41747416e+05,\n",
       "       1.78864953e+05, 2.25701972e+05, 2.84803587e+05, 3.59381366e+05,\n",
       "       4.53487851e+05, 5.72236766e+05, 7.22080902e+05, 9.11162756e+05,\n",
       "       1.14975700e+06, 1.45082878e+06, 1.83073828e+06, 2.31012970e+06,\n",
       "       2.91505306e+06, 3.67837977e+06, 4.64158883e+06, 5.85702082e+06,\n",
       "       7.39072203e+06, 9.32603347e+06, 1.17681195e+07, 1.48496826e+07,\n",
       "       1.87381742e+07, 2.36448941e+07, 2.98364724e+07, 3.76493581e+07,\n",
       "       4.75081016e+07, 5.99484250e+07, 7.56463328e+07, 9.54548457e+07,\n",
       "       1.20450354e+08, 1.51991108e+08, 1.91791026e+08, 2.42012826e+08,\n",
       "       3.05385551e+08, 3.85352859e+08, 4.86260158e+08, 6.13590727e+08,\n",
       "       7.74263683e+08, 9.77009957e+08, 1.23284674e+09, 1.55567614e+09,\n",
       "       1.96304065e+09, 2.47707636e+09, 3.12571585e+09, 3.94420606e+09,\n",
       "       4.97702356e+09, 6.28029144e+09, 7.92482898e+09, 1.00000000e+10])"
      ]
     },
     "execution_count": 68,
     "metadata": {},
     "output_type": "execute_result"
    }
   ],
   "source": [
    "np.logspace(0, 10, 100)"
   ]
  },
  {
   "cell_type": "code",
   "execution_count": 71,
   "metadata": {},
   "outputs": [
    {
     "data": {
      "text/plain": [
       "(array([[1, 2],\n",
       "        [3, 4]]),\n",
       " array([[1],\n",
       "        [2],\n",
       "        [3],\n",
       "        [4]]))"
      ]
     },
     "execution_count": 71,
     "metadata": {},
     "output_type": "execute_result"
    }
   ],
   "source": [
    "a = np.array([[1, 2], [3, 4]])\n",
    "b = a.reshape((4, 1))\n",
    "a, b"
   ]
  },
  {
   "cell_type": "code",
   "execution_count": 74,
   "metadata": {},
   "outputs": [
    {
     "data": {
      "text/plain": [
       "array([[[0]],\n",
       "\n",
       "       [[1]],\n",
       "\n",
       "       [[2]]])"
      ]
     },
     "execution_count": 74,
     "metadata": {},
     "output_type": "execute_result"
    }
   ],
   "source": [
    "y = np.arange(3)\n",
    "y = y[:, np.newaxis, np.newaxis]\n",
    "\n",
    "y"
   ]
  },
  {
   "cell_type": "code",
   "execution_count": 77,
   "metadata": {},
   "outputs": [
    {
     "name": "stdout",
     "output_type": "stream",
     "text": [
      "[1 2 3 4]\n",
      "[[1 3]\n",
      " [2 4]]\n"
     ]
    }
   ],
   "source": [
    "a = np.array([[1, 2], [3, 4]])\n",
    "print(a.flatten())\n",
    "print(a.T)"
   ]
  },
  {
   "cell_type": "code",
   "execution_count": 80,
   "metadata": {},
   "outputs": [
    {
     "data": {
      "text/plain": [
       "0.41999999999999993"
      ]
     },
     "execution_count": 80,
     "metadata": {},
     "output_type": "execute_result"
    }
   ],
   "source": [
    "y = np.array([1, 2, 3, 4, 5])\n",
    "y_hat = np.array([1.2, 2.4, 2.5, 4.6, 5.4])\n",
    "\n",
    "diff = np.abs(y - y_hat)\n",
    "diff.sum() / len(diff)"
   ]
  },
  {
   "cell_type": "code",
   "execution_count": 81,
   "metadata": {},
   "outputs": [
    {
     "data": {
      "text/plain": [
       "0.41999999999999993"
      ]
     },
     "execution_count": 81,
     "metadata": {},
     "output_type": "execute_result"
    }
   ],
   "source": [
    "from sklearn.metrics import mean_absolute_error\n",
    "\n",
    "mean_absolute_error(y, y_hat)"
   ]
  },
  {
   "cell_type": "code",
   "execution_count": 82,
   "metadata": {},
   "outputs": [
    {
     "data": {
      "text/plain": [
       "0.19399999999999995"
      ]
     },
     "execution_count": 82,
     "metadata": {},
     "output_type": "execute_result"
    }
   ],
   "source": [
    "diff = (y - y_hat) ** 2\n",
    "diff.sum() / len(diff)"
   ]
  },
  {
   "cell_type": "code",
   "execution_count": 83,
   "metadata": {},
   "outputs": [
    {
     "data": {
      "text/plain": [
       "0.19399999999999995"
      ]
     },
     "execution_count": 83,
     "metadata": {},
     "output_type": "execute_result"
    }
   ],
   "source": [
    "from sklearn.metrics import mean_squared_error\n",
    "\n",
    "mean_squared_error(y, y_hat)"
   ]
  },
  {
   "cell_type": "code",
   "execution_count": 91,
   "metadata": {},
   "outputs": [
    {
     "name": "stdout",
     "output_type": "stream",
     "text": [
      "[0.53125] -32.500000000000036 0.9191095132743363\n"
     ]
    },
    {
     "data": {
      "text/plain": [
       "[<matplotlib.lines.Line2D at 0x15a9f41d0>]"
      ]
     },
     "execution_count": 91,
     "metadata": {},
     "output_type": "execute_result"
    },
    {
     "data": {
      "image/png": "[encoded data removed]",
      "text/plain": [
       "<Figure size 640x480 with 1 Axes>"
      ]
     },
     "metadata": {},
     "output_type": "display_data"
    }
   ],
   "source": [
    "from sklearn import linear_model\n",
    "\n",
    "regr = linear_model.LinearRegression()\n",
    "\n",
    "X = [[163], [179], [166], [169], [171]]\n",
    "y = [54, 63, 57, 56, 58]\n",
    "\n",
    "regr.fit(X, y)\n",
    "\n",
    "coef = regr.coef_\n",
    "intercept = regr.intercept_\n",
    "score = regr.score(X, y)\n",
    "\n",
    "print(coef, intercept, score)\n",
    "\n",
    "\n",
    "plt.scatter(X, y, color='blue', marker='D')\n",
    "\n",
    "y_pred = regr.predict(X)\n",
    "\n",
    "plt.plot(X, y_pred, 'r:')"
   ]
  },
  {
   "cell_type": "code",
   "execution_count": 93,
   "metadata": {},
   "outputs": [
    {
     "name": "stdout",
     "output_type": "stream",
     "text": [
      "[ 0.74803397 -7.23030041] -61.227783894306384 0.8425933302504424\n",
      "[56.46358918]\n"
     ]
    }
   ],
   "source": [
    "x = [\n",
    "    [168, 0], [166, 0], [173, 0], [165, 0], [177, 0], [163, 0], [178, 0], [172, 0],\n",
    "    [163, 1], [162, 1], [171, 1], [162, 1], [164, 1], [162, 1], [158, 1], [173, 1]\n",
    "]\n",
    "\n",
    "y = [65, 61, 68, 63, 68, 61, 76, 67, 55, 51, 59, 53, 61, 56, 44, 57]\n",
    "\n",
    "regr.fit(x, y)\n",
    "\n",
    "print(regr.coef_, regr.intercept_, regr.score(x, y))\n",
    "\n",
    "print(regr.predict([[167, 1]]))"
   ]
  },
  {
   "cell_type": "code",
   "execution_count": 114,
   "metadata": {},
   "outputs": [
    {
     "name": "stdout",
     "output_type": "stream",
     "text": [
      "0.6155243093790896 -1.4995227071335144\n"
     ]
    }
   ],
   "source": [
    "X = np.array([1, 4.5, 9, 10, 13])\n",
    "Y = np.array([0, 0.2, 2.5, 5.4, 7.3])\n",
    "\n",
    "w, b = 0, 0\n",
    "\n",
    "learning_rate, epoch = 0.002, 1000\n",
    "\n",
    "n = len(X)\n",
    "\n",
    "for i in range(epoch) :\n",
    "    y_pred = w * X + b\n",
    "    error = y_pred - Y\n",
    "    w = w - learning_rate * (error * X).sum()\n",
    "    b = b - learning_rate * error.sum()\n",
    "\n",
    "print(w, b)"
   ]
  },
  {
   "cell_type": "code",
   "execution_count": null,
   "metadata": {},
   "outputs": [
    {
     "name": "stdout",
     "output_type": "stream",
     "text": [
      "0.9819805060619655 [[1.         0.98198051]\n",
      " [0.98198051 1.        ]]\n"
     ]
    }
   ],
   "source": [
    "print(corr(v1, v2), np.corrcoef(v1, v2))"
   ]
  },
  {
   "cell_type": "code",
   "execution_count": 101,
   "metadata": {},
   "outputs": [
    {
     "name": "stdout",
     "output_type": "stream",
     "text": [
      "[0.63111111] -1.6533333333333338\n"
     ]
    },
    {
     "data": {
      "text/plain": [
       "[<matplotlib.lines.Line2D at 0x15f4b3f20>]"
      ]
     },
     "execution_count": 101,
     "metadata": {},
     "output_type": "execute_result"
    },
    {
     "data": {
      "image/png": "[encoded data removed]",
      "text/plain": [
       "<Figure size 640x480 with 1 Axes>"
      ]
     },
     "metadata": {},
     "output_type": "display_data"
    }
   ],
   "source": [
    "from sklearn import linear_model\n",
    "\n",
    "regr = linear_model.LinearRegression()\n",
    "\n",
    "X = np.array([1, 4.5, 9, 10, 13])\n",
    "Y = np.array([0, 0.2, 2.5, 5.4, 7.3])\n",
    "X = X[:, np.newaxis]\n",
    "regr.fit(X, Y)\n",
    "\n",
    "print(regr.coef_, regr.intercept_)\n",
    "\n",
    "y_pred = regr.coef_ * X + regr.intercept_\n",
    "\n",
    "plt.scatter(X, Y, color='blue', marker='D')\n",
    "plt.plot(X, y_pred, 'r:')"
   ]
  },
  {
   "cell_type": "code",
   "execution_count": 115,
   "metadata": {},
   "outputs": [
    {
     "data": {
      "image/png": "[encoded data removed]",
      "text/plain": [
       "<Figure size 640x480 with 1 Axes>"
      ]
     },
     "metadata": {},
     "output_type": "display_data"
    }
   ],
   "source": [
    "from sklearn.preprocessing import MinMaxScaler\n",
    "\n",
    "yr = np.array([15, 30, 23, 5, 9, 43, 33, 29, 3, 56])\n",
    "n_rooms = np.array([2, 4, 3, 4, 4, 3, 3, 1, 1, 2])\n",
    "\n",
    "min_max_scaler = MinMaxScaler()\n",
    "yr_norm = min_max_scaler.fit_transform(yr[:, np.newaxis])\n",
    "n_rooms_norm = min_max_scaler.fit_transform(n_rooms[:, np.newaxis])\n",
    "\n",
    "plt.scatter(yr_norm, n_rooms_norm, c='red')\n",
    "plt.xlim(-0.1, 1.1)\n",
    "plt.ylim(-0.1, 1.1)\n",
    "plt.xlabel('year')\n",
    "plt.ylabel('num of rooms')\n",
    "plt.show()"
   ]
  },
  {
   "cell_type": "code",
   "execution_count": 150,
   "metadata": {},
   "outputs": [
    {
     "data": {
      "image/png": "[encoded data removed]",
      "text/plain": [
       "<Figure size 640x480 with 1 Axes>"
      ]
     },
     "metadata": {},
     "output_type": "display_data"
    },
    {
     "name": "stdout",
     "output_type": "stream",
     "text": [
      "표준화 이전의 yr: [15 30 23  5  9 43 33 29  3 56]\n",
      "표준화 이후의 yr: [[-0.59]\n",
      " [ 0.33]\n",
      " [-0.1 ]\n",
      " [-1.21]\n",
      " [-0.96]\n",
      " [ 1.13]\n",
      " [ 0.52]\n",
      " [ 0.27]\n",
      " [-1.33]\n",
      " [ 1.94]]\n"
     ]
    }
   ],
   "source": [
    "from sklearn.preprocessing import StandardScaler\n",
    "\n",
    "scaler = StandardScaler()\n",
    "\n",
    "yr_scaled_d = scaler.fit_transform(yr[:, np.newaxis])\n",
    "\n",
    "plt.scatter(np.arange(10), yr_scaled_d, c='red')\n",
    "plt.xlim(-1.1, 10.1)\n",
    "plt.ylim(-2.1, 2.1)\n",
    "plt.show()\n",
    "\n",
    "print(f'표준화 이전의 yr: {yr}')\n",
    "np.set_printoptions(precision=2)\n",
    "print(f'표준화 이후의 yr: {yr_scaled_d}')"
   ]
  },
  {
   "cell_type": "code",
   "execution_count": 155,
   "metadata": {},
   "outputs": [
    {
     "data": {
      "text/plain": [
       "array([[ 0,  1],\n",
       "       [ 2,  3],\n",
       "       [ 4,  5],\n",
       "       [ 6,  7],\n",
       "       [ 8,  9],\n",
       "       [10, 11]])"
      ]
     },
     "execution_count": 155,
     "metadata": {},
     "output_type": "execute_result"
    }
   ],
   "source": [
    "a = np.arange(12)\n",
    "\n",
    "a.reshape(6, 2)"
   ]
  }
 ],
 "metadata": {
  "kernelspec": {
   "display_name": "base",
   "language": "python",
   "name": "python3"
  },
  "language_info": {
   "codemirror_mode": {
    "name": "ipython",
    "version": 3
   },
   "file_extension": ".py",
   "mimetype": "text/x-python",
   "name": "python",
   "nbconvert_exporter": "python",
   "pygments_lexer": "ipython3",
   "version": "3.12.4"
  }
 },
 "nbformat": 4,
 "nbformat_minor": 2
}
